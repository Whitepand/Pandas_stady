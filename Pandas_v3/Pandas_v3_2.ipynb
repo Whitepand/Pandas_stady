{
 "cells": [
  {
   "cell_type": "code",
   "execution_count": 28,
   "metadata": {},
   "outputs": [
    {
     "name": "stdout",
     "output_type": "stream",
     "text": [
      "99\n"
     ]
    }
   ],
   "source": [
    "import pandas as pd\n",
    "import re\n",
    "\n",
    "def get_experience(arg):\n",
    "    # Удаляем пробелы из строки\n",
    "    arg = arg.replace(' ', '')\n",
    "\n",
    "    # Используем регулярные выражения для поиска чисел и букв, обозначающих годы или месяцы\n",
    "    pattern = r'(\\d+)(г|год|года|годы|м|месяц|месяца|месяцы|лет)'\n",
    "    matches = re.findall(pattern, arg, re.IGNORECASE)\n",
    "\n",
    "    total_months = 0\n",
    "\n",
    "    for value, unit in matches:\n",
    "        value = int(value)\n",
    "        if 'г' in unit:\n",
    "            total_months += value * 12\n",
    "        elif 'м' in unit:\n",
    "            total_months += value\n",
    "        elif 'лет' in unit:\n",
    "            total_months += value * 12    \n",
    "\n",
    "    return total_months\n",
    "\n",
    "# Пример использования\n",
    "experience_string = 'Опыт Работы 8 лет 3 месяца'\n",
    "total_experience = get_experience(experience_string)\n",
    "print(total_experience)  # Выведет 99, что соответствует 8 годам и 3 месяцам опыта работы\n",
    "\n"
   ]
  },
  {
   "cell_type": "code",
   "execution_count": null,
   "metadata": {},
   "outputs": [],
   "source": [
    "def get_experience(arg):\n",
    "    month_key_words = ['месяц', 'месяцев', 'месяца']\n",
    "    year_key_words = ['год', 'лет', 'года']\n",
    "    args_splited = arg.split(' ')\n",
    "    month = 0\n",
    "    year = 0\n",
    "    for i in range(len(args_splited)):\n",
    "        if args_splited[i] in month_key_words:\n",
    "            month = args_splited[i-1]\n",
    "        if args_splited[i] in year_key_words:\n",
    "            year = args_splited[i-1]\n",
    "    return int(year)*12 + int(month)"
   ]
  }
 ],
 "metadata": {
  "kernelspec": {
   "display_name": "Python 3",
   "language": "python",
   "name": "python3"
  },
  "language_info": {
   "codemirror_mode": {
    "name": "ipython",
    "version": 3
   },
   "file_extension": ".py",
   "mimetype": "text/x-python",
   "name": "python",
   "nbconvert_exporter": "python",
   "pygments_lexer": "ipython3",
   "version": "3.11.6"
  }
 },
 "nbformat": 4,
 "nbformat_minor": 2
}
