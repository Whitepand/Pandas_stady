{
 "cells": [
  {
   "cell_type": "code",
   "execution_count": 1,
   "metadata": {},
   "outputs": [
    {
     "name": "stdout",
     "output_type": "stream",
     "text": [
      "37.5\n",
      "18\n"
     ]
    }
   ],
   "source": [
    "import pandas as pd\n",
    "names=['chlorhexidine', 'cyntomycin', 'afobazol']\n",
    "counts=[15, 18, 7]\n",
    "\n",
    "\n",
    "\n",
    "\n",
    "def create_medications(names, counts):\n",
    "    Series_medications = pd.Series(\n",
    "        data = counts, \n",
    "        index = names)\n",
    "    return Series_medications\n",
    "medications = create_medications(names, counts)\n",
    "def get_percent(medications, name):\n",
    "    num = medications.loc[name]\n",
    "    nums = medications\n",
    "    fraction_num = (num / sum(nums))*100\n",
    "    return fraction_num\n",
    "print(get_percent(medications, \"chlorhexidine\")) #37.5\n",
    "print(medications.iloc[1])"
   ]
  }
 ],
 "metadata": {
  "kernelspec": {
   "display_name": "Python 3",
   "language": "python",
   "name": "python3"
  },
  "language_info": {
   "codemirror_mode": {
    "name": "ipython",
    "version": 3
   },
   "file_extension": ".py",
   "mimetype": "text/x-python",
   "name": "python",
   "nbconvert_exporter": "python",
   "pygments_lexer": "ipython3",
   "version": "3.9.13"
  }
 },
 "nbformat": 4,
 "nbformat_minor": 2
}
