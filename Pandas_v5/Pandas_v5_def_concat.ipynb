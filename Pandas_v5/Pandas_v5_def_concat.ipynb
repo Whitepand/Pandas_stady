{
 "cells": [
  {
   "cell_type": "code",
   "execution_count": 1,
   "metadata": {},
   "outputs": [
    {
     "ename": "FileNotFoundError",
     "evalue": "[WinError 3] Системе не удается найти указанный путь: 'users/'",
     "output_type": "error",
     "traceback": [
      "\u001b[1;31m---------------------------------------------------------------------------\u001b[0m",
      "\u001b[1;31mFileNotFoundError\u001b[0m                         Traceback (most recent call last)",
      "\u001b[1;32md:\\Python обучение\\Pandas_learning\\Pandas\\Pandas_stady\\Pandas_v5\\Pandas_v5_def_concat.ipynb Cell 1\u001b[0m line \u001b[0;36m2\n\u001b[0;32m     <a href='vscode-notebook-cell:/d%3A/Python%20%D0%BE%D0%B1%D1%83%D1%87%D0%B5%D0%BD%D0%B8%D0%B5/Pandas_learning/Pandas/Pandas_stady/Pandas_v5/Pandas_v5_def_concat.ipynb#W0sZmlsZQ%3D%3D?line=22'>23</a>\u001b[0m \u001b[39m# Пример использования функции\u001b[39;00m\n\u001b[0;32m     <a href='vscode-notebook-cell:/d%3A/Python%20%D0%BE%D0%B1%D1%83%D1%87%D0%B5%D0%BD%D0%B8%D0%B5/Pandas_learning/Pandas/Pandas_stady/Pandas_v5/Pandas_v5_def_concat.ipynb#W0sZmlsZQ%3D%3D?line=23'>24</a>\u001b[0m path_to_directory \u001b[39m=\u001b[39m \u001b[39m'\u001b[39m\u001b[39musers/\u001b[39m\u001b[39m'\u001b[39m  \u001b[39m# Укажите путь к вашей директории\u001b[39;00m\n\u001b[1;32m---> <a href='vscode-notebook-cell:/d%3A/Python%20%D0%BE%D0%B1%D1%83%D1%87%D0%B5%D0%BD%D0%B8%D0%B5/Pandas_learning/Pandas/Pandas_stady/Pandas_v5/Pandas_v5_def_concat.ipynb#W0sZmlsZQ%3D%3D?line=24'>25</a>\u001b[0m resulting_dataframe \u001b[39m=\u001b[39m concat_user_files(path_to_directory)\n",
      "\u001b[1;32md:\\Python обучение\\Pandas_learning\\Pandas\\Pandas_stady\\Pandas_v5\\Pandas_v5_def_concat.ipynb Cell 1\u001b[0m line \u001b[0;36m4\n\u001b[0;32m      <a href='vscode-notebook-cell:/d%3A/Python%20%D0%BE%D0%B1%D1%83%D1%87%D0%B5%D0%BD%D0%B8%D0%B5/Pandas_learning/Pandas/Pandas_stady/Pandas_v5/Pandas_v5_def_concat.ipynb#W0sZmlsZQ%3D%3D?line=1'>2</a>\u001b[0m \u001b[39mdef\u001b[39;00m \u001b[39mconcat_user_files\u001b[39m(path):\n\u001b[0;32m      <a href='vscode-notebook-cell:/d%3A/Python%20%D0%BE%D0%B1%D1%83%D1%87%D0%B5%D0%BD%D0%B8%D0%B5/Pandas_learning/Pandas/Pandas_stady/Pandas_v5/Pandas_v5_def_concat.ipynb#W0sZmlsZQ%3D%3D?line=2'>3</a>\u001b[0m     \u001b[39m# Получаем список файлов в директории и сортируем его\u001b[39;00m\n\u001b[1;32m----> <a href='vscode-notebook-cell:/d%3A/Python%20%D0%BE%D0%B1%D1%83%D1%87%D0%B5%D0%BD%D0%B8%D0%B5/Pandas_learning/Pandas/Pandas_stady/Pandas_v5/Pandas_v5_def_concat.ipynb#W0sZmlsZQ%3D%3D?line=3'>4</a>\u001b[0m     file_names \u001b[39m=\u001b[39m \u001b[39msorted\u001b[39m(os\u001b[39m.\u001b[39;49mlistdir(path))\n\u001b[0;32m      <a href='vscode-notebook-cell:/d%3A/Python%20%D0%BE%D0%B1%D1%83%D1%87%D0%B5%D0%BD%D0%B8%D0%B5/Pandas_learning/Pandas/Pandas_stady/Pandas_v5/Pandas_v5_def_concat.ipynb#W0sZmlsZQ%3D%3D?line=5'>6</a>\u001b[0m     \u001b[39m# Создаем пустой DataFrame, который будет хранить объединенные данные\u001b[39;00m\n\u001b[0;32m      <a href='vscode-notebook-cell:/d%3A/Python%20%D0%BE%D0%B1%D1%83%D1%87%D0%B5%D0%BD%D0%B8%D0%B5/Pandas_learning/Pandas/Pandas_stady/Pandas_v5/Pandas_v5_def_concat.ipynb#W0sZmlsZQ%3D%3D?line=6'>7</a>\u001b[0m     combined_df \u001b[39m=\u001b[39m pd\u001b[39m.\u001b[39mDataFrame()\n",
      "\u001b[1;31mFileNotFoundError\u001b[0m: [WinError 3] Системе не удается найти указанный путь: 'users/'"
     ]
    }
   ],
   "source": [
    "import os \n",
    "def concat_user_files(path):\n",
    "    # Получаем список файлов в директории и сортируем его\n",
    "    file_names = sorted(os.listdir(path))\n",
    "    \n",
    "    # Создаем пустой DataFrame, который будет хранить объединенные данные\n",
    "    combined_df = pd.DataFrame()\n",
    "    \n",
    "    # Итерируемся по файлам и объединяем их в combined_df\n",
    "    for file_name in file_names:\n",
    "        # Полный путь к файлу\n",
    "        file_path = os.path.join(path, file_name)\n",
    "        \n",
    "        # Читаем файл и добавляем его данные к combined_df\n",
    "        df = pd.read_csv(file_path)\n",
    "        combined_df = pd.concat([combined_df, df], ignore_index=True)\n",
    "    \n",
    "    # Удаляем дубликаты (если они есть)\n",
    "    combined_df = combined_df.drop_duplicates()\n",
    "    \n",
    "    return combined_df\n",
    "\n",
    "# Пример использования функции\n",
    "path_to_directory = 'users/'  # Укажите путь к вашей директории\n",
    "resulting_dataframe = concat_user_files(path_to_directory)"
   ]
  }
 ],
 "metadata": {
  "kernelspec": {
   "display_name": "Python 3",
   "language": "python",
   "name": "python3"
  },
  "language_info": {
   "codemirror_mode": {
    "name": "ipython",
    "version": 3
   },
   "file_extension": ".py",
   "mimetype": "text/x-python",
   "name": "python",
   "nbconvert_exporter": "python",
   "pygments_lexer": "ipython3",
   "version": "3.9.13"
  }
 },
 "nbformat": 4,
 "nbformat_minor": 2
}
