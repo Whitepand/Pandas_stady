{
 "cells": [
  {
   "cell_type": "code",
   "execution_count": 3,
   "metadata": {},
   "outputs": [
    {
     "data": {
      "text/plain": [
       "'D:/Python обучение/Pandas_learning/Pandas/Pandas_stady/Pandas_v5/movies_data\\ratings_movies.csv'"
      ]
     },
     "execution_count": 3,
     "metadata": {},
     "output_type": "execute_result"
    }
   ],
   "source": [
    "path = \"D:\\Python обучение\\Pandas_learning\\Pandas\\Pandas_stady\\Pandas_v5\\movies_data\\ratings_movies.csv\"\n",
    "def path_rep(path):\n",
    "    path = path.replace('\\\\', '/')\n",
    "    return path\n",
    "path_rep(path)       \n",
    "        "
   ]
  }
 ],
 "metadata": {
  "kernelspec": {
   "display_name": "Python 3",
   "language": "python",
   "name": "python3"
  },
  "language_info": {
   "codemirror_mode": {
    "name": "ipython",
    "version": 3
   },
   "file_extension": ".py",
   "mimetype": "text/x-python",
   "name": "python",
   "nbconvert_exporter": "python",
   "pygments_lexer": "ipython3",
   "version": "3.9.13"
  }
 },
 "nbformat": 4,
 "nbformat_minor": 2
}
