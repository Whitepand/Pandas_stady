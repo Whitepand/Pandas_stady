{
 "cells": [
  {
   "cell_type": "code",
   "execution_count": null,
   "metadata": {},
   "outputs": [],
   "source": [
    "import pandas as pd\n",
    "income = []\n",
    "expenses = []\n",
    "years = []\n",
    "\n",
    "\n",
    "\n",
    "def create_companyDF(income, expenses, years):\n",
    "    df = pd.DataFrame({\"Income\" : income, \"Expenses\" : expenses})\n",
    "    df.index = years\n",
    "    return df\n",
    "df = create_companyDF(income, expenses, years)\n",
    "\n",
    "def get_profit(df, year):\n",
    "    if year not in df.index:\n",
    "        return \n",
    "    income, expenses = df.loc[year]\n",
    "    profit = income - expenses\n",
    "    return profit\n",
    "print(create_companyDF(income = [612, 516, 329, 158], expenses = [136, 163, 250, 361], years = [2017, 2018, 2019, 2020]))\n",
    "print(get_profit(year = 2018, df = create_companyDF([612, 516, 329, 158], [136,163,250,361], [2017,2018,2019,2020])))\n",
    "\n"
   ]
  }
 ],
 "metadata": {
  "language_info": {
   "name": "python"
  }
 },
 "nbformat": 4,
 "nbformat_minor": 2
}
